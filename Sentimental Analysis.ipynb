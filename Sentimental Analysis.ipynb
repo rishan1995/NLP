{
 "cells": [
  {
   "cell_type": "code",
   "execution_count": 31,
   "metadata": {},
   "outputs": [],
   "source": [
    "import nltk\n",
    "import random\n",
    "from nltk.classify.scikitlearn import SklearnClassifier\n",
    "from nltk.tokenize import word_tokenize\n",
    "from sklearn.naive_bayes import MultinomialNB,BernoulliNB\n",
    "from sklearn.svm import SVC,LinearSVC,NuSVC"
   ]
  },
  {
   "cell_type": "code",
   "execution_count": 19,
   "metadata": {},
   "outputs": [],
   "source": [
    "short_pos=open(\"positive.txt\",\"r\").read()\n",
    "short_neg=open(\"negative.txt\",\"r\").read()\n",
    "\n",
    "documents=[]\n",
    "\n",
    "for r in short_pos.split('\\n'):\n",
    "    documents.append((r,\"pos\"))\n",
    "    \n",
    "for r in short_neg.split('\\n'):\n",
    "    documents.append((r,\"neg\"))\n",
    "    \n",
    "all_words=[]\n",
    "\n",
    "short_pos_words=word_tokenize(short_pos)\n",
    "short_neg_words=word_tokenize(short_neg)\n"
   ]
  },
  {
   "cell_type": "code",
   "execution_count": 20,
   "metadata": {},
   "outputs": [],
   "source": [
    "for w in short_pos_words:\n",
    "    all_words.append(w.lower())\n",
    "for w in short_neg_words:\n",
    "    all_words.append(w.lower())\n",
    "    \n",
    "all_words=nltk.FreqDist(all_words)\n",
    "\n",
    "word_features=list(all_words.keys())[:3000]"
   ]
  },
  {
   "cell_type": "code",
   "execution_count": 27,
   "metadata": {},
   "outputs": [],
   "source": [
    "def find_features(document):\n",
    "    words=word_tokenize(document)\n",
    "    features={}\n",
    "    for w in word_features:\n",
    "        features[w]=(w in words)\n",
    "    return features"
   ]
  },
  {
   "cell_type": "code",
   "execution_count": 28,
   "metadata": {},
   "outputs": [],
   "source": [
    "featuresets=[(find_features(rev),category) for (rev,category) in documents]\n",
    "random.shuffle(featuresets)"
   ]
  },
  {
   "cell_type": "code",
   "execution_count": 29,
   "metadata": {},
   "outputs": [
    {
     "name": "stdout",
     "output_type": "stream",
     "text": [
      "Accuracy:  0.7364457831325302\n",
      "Most Informative Features\n",
      "              engrossing = True              pos : neg    =     20.3 : 1.0\n",
      "                provides = True              pos : neg    =     18.3 : 1.0\n",
      "               inventive = True              pos : neg    =     15.7 : 1.0\n",
      "              unexpected = True              pos : neg    =     13.0 : 1.0\n",
      "              refreshing = True              pos : neg    =     12.3 : 1.0\n",
      "               affecting = True              pos : neg    =     12.3 : 1.0\n",
      "            refreshingly = True              pos : neg    =     12.3 : 1.0\n",
      "               wonderful = True              pos : neg    =     11.8 : 1.0\n",
      "                captures = True              pos : neg    =     11.4 : 1.0\n",
      "                    ages = True              pos : neg    =     11.0 : 1.0\n",
      "             mesmerizing = True              pos : neg    =     11.0 : 1.0\n",
      "               realistic = True              pos : neg    =     10.3 : 1.0\n",
      "                powerful = True              pos : neg    =      9.9 : 1.0\n",
      "                  tender = True              pos : neg    =      9.7 : 1.0\n",
      "                 culture = True              pos : neg    =      9.2 : 1.0\n",
      "                  flawed = True              pos : neg    =      9.0 : 1.0\n",
      "                     wry = True              pos : neg    =      9.0 : 1.0\n",
      "                touching = True              pos : neg    =      8.8 : 1.0\n",
      "                  unique = True              pos : neg    =      8.6 : 1.0\n",
      "                 iranian = True              pos : neg    =      8.3 : 1.0\n",
      "                resonant = True              pos : neg    =      8.3 : 1.0\n",
      "                polanski = True              pos : neg    =      8.3 : 1.0\n",
      "                intimate = True              pos : neg    =      8.2 : 1.0\n",
      "              thoughtful = True              pos : neg    =      8.1 : 1.0\n",
      "               absorbing = True              pos : neg    =      7.8 : 1.0\n",
      "                 respect = True              pos : neg    =      7.7 : 1.0\n",
      "                 surreal = True              pos : neg    =      7.7 : 1.0\n",
      "                 low-key = True              pos : neg    =      7.7 : 1.0\n",
      "                 huppert = True              pos : neg    =      7.7 : 1.0\n",
      "               evocative = True              pos : neg    =      7.7 : 1.0\n",
      "                  beauty = True              pos : neg    =      7.6 : 1.0\n",
      "                   vivid = True              pos : neg    =      7.4 : 1.0\n",
      "                 britney = True              neg : pos    =      7.0 : 1.0\n",
      "                   sides = True              pos : neg    =      7.0 : 1.0\n",
      "             examination = True              pos : neg    =      7.0 : 1.0\n",
      "                   quiet = True              pos : neg    =      7.0 : 1.0\n",
      "                  format = True              pos : neg    =      7.0 : 1.0\n",
      "                   flaws = True              pos : neg    =      7.0 : 1.0\n",
      "              transcends = True              pos : neg    =      7.0 : 1.0\n",
      "                    poem = True              pos : neg    =      7.0 : 1.0\n",
      "                 playful = True              pos : neg    =      7.0 : 1.0\n",
      "                delicate = True              pos : neg    =      6.6 : 1.0\n",
      "                  deftly = True              pos : neg    =      6.6 : 1.0\n",
      "                     bad = True              neg : pos    =      6.5 : 1.0\n",
      "              delightful = True              pos : neg    =      6.4 : 1.0\n",
      "                    test = True              neg : pos    =      6.3 : 1.0\n",
      "             distinctive = True              pos : neg    =      6.3 : 1.0\n",
      "                cultures = True              pos : neg    =      6.3 : 1.0\n",
      "                  speaks = True              pos : neg    =      6.3 : 1.0\n",
      "          uncompromising = True              pos : neg    =      6.3 : 1.0\n",
      "              undeniably = True              pos : neg    =      6.3 : 1.0\n",
      "                    tsai = True              pos : neg    =      6.3 : 1.0\n",
      "                  finest = True              pos : neg    =      6.3 : 1.0\n",
      "                  timely = True              pos : neg    =      6.3 : 1.0\n",
      "             pretentious = True              neg : pos    =      6.3 : 1.0\n",
      "                     son = True              pos : neg    =      6.2 : 1.0\n",
      "            exhilarating = True              pos : neg    =      6.2 : 1.0\n",
      "                 reveals = True              pos : neg    =      6.1 : 1.0\n",
      "                 winning = True              pos : neg    =      6.1 : 1.0\n",
      "                   witty = True              pos : neg    =      6.1 : 1.0\n",
      "                    rare = True              pos : neg    =      5.9 : 1.0\n",
      "               spielberg = True              pos : neg    =      5.9 : 1.0\n",
      "                 glimpse = True              pos : neg    =      5.8 : 1.0\n",
      "                humanity = True              pos : neg    =      5.8 : 1.0\n",
      "                   pulls = True              pos : neg    =      5.8 : 1.0\n",
      "               affection = True              pos : neg    =      5.8 : 1.0\n",
      "                 intense = True              pos : neg    =      5.8 : 1.0\n",
      "             challenging = True              pos : neg    =      5.8 : 1.0\n",
      "                    ship = True              neg : pos    =      5.7 : 1.0\n",
      "                insomnia = True              pos : neg    =      5.7 : 1.0\n",
      "                grandeur = True              pos : neg    =      5.7 : 1.0\n",
      "                 pianist = True              pos : neg    =      5.7 : 1.0\n",
      "                 gosling = True              pos : neg    =      5.7 : 1.0\n",
      "                 clooney = True              pos : neg    =      5.7 : 1.0\n",
      "               unnerving = True              pos : neg    =      5.7 : 1.0\n",
      "                 sensual = True              pos : neg    =      5.7 : 1.0\n",
      "               marvelous = True              pos : neg    =      5.7 : 1.0\n",
      "               maintains = True              pos : neg    =      5.7 : 1.0\n",
      "                   droll = True              pos : neg    =      5.7 : 1.0\n",
      "             understands = True              pos : neg    =      5.7 : 1.0\n",
      "               mysteries = True              pos : neg    =      5.7 : 1.0\n",
      "                   china = True              pos : neg    =      5.7 : 1.0\n",
      "                terrific = True              pos : neg    =      5.6 : 1.0\n",
      "                   worst = True              neg : pos    =      5.6 : 1.0\n",
      "                   treat = True              pos : neg    =      5.6 : 1.0\n",
      "             masterpiece = True              pos : neg    =      5.6 : 1.0\n",
      "                  moving = True              pos : neg    =      5.3 : 1.0\n",
      "                 triumph = True              pos : neg    =      5.3 : 1.0\n",
      "              disturbing = True              pos : neg    =      5.3 : 1.0\n",
      "                   urban = True              pos : neg    =      5.3 : 1.0\n",
      "                   solid = True              pos : neg    =      5.2 : 1.0\n",
      "                  gentle = True              pos : neg    =      5.2 : 1.0\n",
      "               enjoyable = True              pos : neg    =      5.2 : 1.0\n",
      "                 journey = True              pos : neg    =      5.1 : 1.0\n",
      "                   bland = True              neg : pos    =      5.0 : 1.0\n",
      "                    joke = True              neg : pos    =      5.0 : 1.0\n",
      "               resembles = True              neg : pos    =      5.0 : 1.0\n",
      "                 rewards = True              pos : neg    =      5.0 : 1.0\n",
      "              challenges = True              pos : neg    =      5.0 : 1.0\n",
      "                 vibrant = True              pos : neg    =      5.0 : 1.0\n"
     ]
    }
   ],
   "source": [
    "training_set=featuresets[:10000]\n",
    "testing_set=featuresets[10000:]\n",
    "\n",
    "#Naive bayes is used because we can scale it according to our needs and also doesn't involve much computation/processing.\n",
    "\n",
    "classifier=nltk.NaiveBayesClassifier.train(training_set)\n",
    "print(\"Accuracy: \",nltk.classify.accuracy(classifier,testing_set)) #Tests our accuracy with the testing dataset\n",
    "classifier.show_most_informative_features(100) #gives 15 most infomative features"
   ]
  },
  {
   "cell_type": "code",
   "execution_count": 30,
   "metadata": {},
   "outputs": [
    {
     "name": "stdout",
     "output_type": "stream",
     "text": [
      "mnb_classifier Accuracy:  0.7409638554216867\n",
      "bnb_classifier Accuracy:  0.7424698795180723\n"
     ]
    }
   ],
   "source": [
    "\n",
    "\n",
    "mnb_classifier=SklearnClassifier(MultinomialNB())\n",
    "mnb_classifier.train(training_set)\n",
    "print(\"mnb_classifier Accuracy: \",nltk.classify.accuracy(mnb_classifier,testing_set))\n",
    "\n",
    "\n",
    "\n",
    "bnb_classifier=SklearnClassifier(BernoulliNB())\n",
    "bnb_classifier.train(training_set)\n",
    "print(\"bnb_classifier Accuracy: \",nltk.classify.accuracy(bnb_classifier,testing_set))\n"
   ]
  },
  {
   "cell_type": "code",
   "execution_count": 32,
   "metadata": {},
   "outputs": [
    {
     "name": "stdout",
     "output_type": "stream",
     "text": [
      "SVC_classifier Accuracy:  0.6114457831325302\n",
      "LinearSVC_classifier Accuracy:  0.7243975903614458\n",
      "NuSVC_classifier Accuracy:  0.7289156626506024\n"
     ]
    }
   ],
   "source": [
    "SVC_classifier=SklearnClassifier(SVC())\n",
    "SVC_classifier.train(training_set)\n",
    "print(\"SVC_classifier Accuracy: \",nltk.classify.accuracy(SVC_classifier,testing_set))\n",
    "\n",
    "\n",
    "LinearSVC_classifier=SklearnClassifier(LinearSVC())\n",
    "LinearSVC_classifier.train(training_set)\n",
    "print(\"LinearSVC_classifier Accuracy: \",nltk.classify.accuracy(LinearSVC_classifier,testing_set))\n",
    "\n",
    "NuSVC_classifier=SklearnClassifier(NuSVC())\n",
    "NuSVC_classifier.train(training_set)\n",
    "print(\"NuSVC_classifier Accuracy: \",nltk.classify.accuracy(NuSVC_classifier,testing_set))"
   ]
  }
 ],
 "metadata": {
  "kernelspec": {
   "display_name": "Python 3",
   "language": "python",
   "name": "python3"
  },
  "language_info": {
   "codemirror_mode": {
    "name": "ipython",
    "version": 3
   },
   "file_extension": ".py",
   "mimetype": "text/x-python",
   "name": "python",
   "nbconvert_exporter": "python",
   "pygments_lexer": "ipython3",
   "version": "3.7.4"
  }
 },
 "nbformat": 4,
 "nbformat_minor": 2
}
